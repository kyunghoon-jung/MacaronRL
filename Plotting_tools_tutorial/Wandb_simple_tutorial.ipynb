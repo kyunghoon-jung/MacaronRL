{
 "cells": [
  {
   "cell_type": "markdown",
   "metadata": {},
   "source": [
    "### Simple Wandb Tutorial \n",
    "\n",
    "\n",
    "    Wandb의 공식 홈페이지 설명인, https://docs.wandb.ai/library의 내용을 간략한 내용만 적은 것입니다. "
   ]
  },
  {
   "cell_type": "markdown",
   "metadata": {},
   "source": [
    "#### wandb는 data plotting을 해주는 tool이다. 여기서는 다양한 user와 하나의 team project를 만들고 서로의 결과를 공유하는 방법을 알아보자.\n",
    "\n",
    "    0. wandb에 가입. 그러면 본인의 이메일 주소로 team project에 초대를 받을 수 있다.\n",
    "    1. wandb를 설치. pip install wandb 로 설치 가능(2021.01.12일 작성시까지 가능했음)\n",
    "    2. 이 다음부터는 아래 순서대로.."
   ]
  },
  {
   "cell_type": "code",
   "execution_count": 1,
   "metadata": {},
   "outputs": [],
   "source": [
    "# 설치가 완료되면 import를 하자\n",
    "\n",
    "import wandb"
   ]
  },
  {
   "cell_type": "code",
   "execution_count": null,
   "metadata": {},
   "outputs": [],
   "source": [
    "# wandb를 쓰기 전에 로그인.\n",
    "# 아래와 같이 terminal에 입력하자. (참고: project를 wandb 홈페이지에서 생성하면 api key가 나오는데, 그걸로 로그인을 해도 무방)\n",
    "# 다수의 사용자가 쓰는 서버컴퓨터를 쓰는 경우라면, api key를 복사해놓고 자신이 쓸때는 로그인 하는 것을 잊지 말자. \n",
    "\n",
    "wandb login "
   ]
  },
  {
   "cell_type": "code",
   "execution_count": null,
   "metadata": {},
   "outputs": [],
   "source": [
    "# terminal이 아닌, py 파일에서 wandb login을 처리하고 싶을 때가 있다. (왜냐하면 항상 실행하기 전에, 서버 컴퓨터에서 내 wandb로 login을 해야하는 것이 번거로우므로) \n",
    "# 그 때는 다음과 같이 call 함수를 이용하자. (2021.01.12까지 실행 확인)\n",
    "# 아래 구문을 py파일에 넣으면, 다수의 사용자가 있는 서버를 쓰더라도 login한 wandb project에 기록을 할 수 있다.\n",
    "\n",
    "from subprocess import call\n",
    "call([\"wandb\", \"login\", \"발급받은 API 키 입력\"])"
   ]
  },
  {
   "cell_type": "code",
   "execution_count": 2,
   "metadata": {},
   "outputs": [],
   "source": [
    "import numpy as np\n",
    "import time"
   ]
  },
  {
   "cell_type": "markdown",
   "metadata": {},
   "source": [
    "#### 다수의 사용자와 하나의 project를 공유할 때"
   ]
  },
  {
   "cell_type": "code",
   "execution_count": 5,
   "metadata": {},
   "outputs": [],
   "source": [
    "# 먼저, wandb를 사용하기 위해서는 설정을 initialization해줘야 한다. 그 떄 필요한 변수들은 아래와 같다.\n",
    "\n",
    "# team 이름\n",
    "entity = 'teamname' # 처음 team을 만든 사람이 지은 이름이다. 이건 team에 초대한 사람이 알려줘야 함.  \n",
    "\n",
    "# team 안에 생성된 project이름 (or 생성할 project 이름을 써도 된다. 그러면 새롭게 project가 생성된다)\n",
    "project_name = 'project name'\n",
    "\n",
    "# 개인적으로 wandb에 running을 수십번 올리다보면 각 running 기록 이름이 동일해서 헷갈리기 때문에, run 이름앞에 이런 random 숫자를 붙인다.\n",
    "# 이건 필수적인 것이 아님\n",
    "run_idx = np.random.randint(10000) "
   ]
  },
  {
   "cell_type": "code",
   "execution_count": 3,
   "metadata": {},
   "outputs": [],
   "source": [
    "# 아래는 하나의 예시\n",
    "# team 이름\n",
    "entity = 'rl_flip_school_team' # 처음 team을 만든 사람이 지은 이름이다. 이건 team에 초대한 사람이 알려줘야 함.  \n",
    "\n",
    "# team 안에 생성된 or 생성할 project 이름\n",
    "project_name = 'actor_critic'\n",
    "\n",
    "# 개인적으로 wandb에 running을 수십번 올리다보면 이름이 계속 동일해서 헷갈리기 때문에, 항상 run 이름앞에 이런 random 숫자를 붙인다.\n",
    "run_idx = np.random.randint(10000) "
   ]
  },
  {
   "cell_type": "code",
   "execution_count": null,
   "metadata": {
    "scrolled": true
   },
   "outputs": [],
   "source": [
    "# 다음와 같이 initialization을 해야하는데, entity 변수가 맞지 않으면 에러는 안뜨지만 기록이 안되므로 유의할 것.\n",
    "# 반드시 자신이 초대한 or 초대받은 team 이름을 entity로 지정하자.\n",
    "\n",
    "wandb.init(\n",
    "        project=project_name, \n",
    "        entity=entity,\n",
    "        name=f'{run_idx}_AC'\n",
    "        )"
   ]
  },
  {
   "cell_type": "code",
   "execution_count": null,
   "metadata": {},
   "outputs": [],
   "source": [
    "# wandb.init()을 쓸 때는, config를 잘 활용하면 매우 유용하다.\n",
    "# 아래처럼 config를 지정해주면, 각 hyperparameter로 모든 log를 그룹핑하여 plot된 것을 한번에 확인할 수도 있다.\n",
    "# config는 적극적으로 활용하는 것을 추천한다.\n",
    "\n",
    "wandb.init(\n",
    "        project=project_name,\n",
    "        name=f\"{run_idx}_{running name}\",\n",
    "        config={\"env_name\": env_name, \n",
    "                \"input_frame\": input_frame,\n",
    "                \"input_dim\": input_dim,\n",
    "                \"alpha\": alpha,\n",
    "                \"beta\": beta,\n",
    "                \"epsilon_for_priority\": epsilon_for_priority,\n",
    "                \"initial_std (NoisyNet param)\": initial_std,\n",
    "                \"total_training_frames\": tot_train_frames,\n",
    "                \"skipped_frame\": skipped_frame,\n",
    "                \"gamma\": gamma,\n",
    "                \"n_step (Multi-step param)\": n_step,\n",
    "                \"buffer_size\": buffer_size,\n",
    "                \"update_start_buffer_size\": update_start_buffer_size,\n",
    "                \"grad_clip\": grad_clip,\n",
    "                \"batch_size\": batch_size,\n",
    "                \"update_type\": update_type,\n",
    "                \"soft_update_tau\": soft_update_tau,\n",
    "                \"learning_rate\": learning_rate,\n",
    "                \"target_update_freq (unit:frames)\": target_update_freq,\n",
    "                \"behave_update_freq (unit:frames)\": behave_update_freq,\n",
    "                \"n_atoms (C51 param)\": n_atoms,\n",
    "                \"Vmax (C51 param)\": Vmax,\n",
    "                \"Vmin (C51 param)\": Vmin\n",
    "                }\n",
    "        )"
   ]
  },
  {
   "cell_type": "markdown",
   "metadata": {},
   "source": [
    "#### wandb에 기록하기"
   ]
  },
  {
   "cell_type": "code",
   "execution_count": null,
   "metadata": {},
   "outputs": [],
   "source": [
    "# wandb에 올리는 것은 무척 간단하다. \n",
    "# 다음과 같이 wandb.log를 활용.\n",
    "# log안에는 dict 객체가 들어간다. key에는 plot되는 그래프의 이름을 넣고, value에는 plot하려는 변수명을 넣어준다.\n",
    "\n",
    "lists = np.arange(10000)\n",
    "for i in lists:\n",
    "    time.sleep(0.5) \n",
    "    wandb.log({'Score': i}) "
   ]
  },
  {
   "cell_type": "markdown",
   "metadata": {},
   "source": [
    "#### 활용 예시\n",
    "\n",
    "![image](https://drive.google.com/uc?id=1HvF5MCmwxwDFA--aNiHH2RBw1d61K9QO)"
   ]
  }
 ],
 "metadata": {
  "kernelspec": {
   "display_name": "GMCho",
   "language": "python",
   "name": "gmcho"
  },
  "language_info": {
   "codemirror_mode": {
    "name": "ipython",
    "version": 3
   },
   "file_extension": ".py",
   "mimetype": "text/x-python",
   "name": "python",
   "nbconvert_exporter": "python",
   "pygments_lexer": "ipython3",
   "version": "3.7.10"
  }
 },
 "nbformat": 4,
 "nbformat_minor": 4
}
