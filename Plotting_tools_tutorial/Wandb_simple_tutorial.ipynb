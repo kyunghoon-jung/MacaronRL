{
 "cells": [
  {
   "cell_type": "markdown",
   "metadata": {},
   "source": [
    "### Simple Wandb Tutorial \n",
    "\n",
    "\n",
    "    Wandb의 공식 홈페이지의 [QuickStart](https://docs.wandb.ai/quickstart)에 더 자세하고 다양한 내용이 있음을 미리 알려드립니다. 해당 노트북은 제 개인적인 기억용입니다. :)"
   ]
  },
  {
   "cell_type": "markdown",
   "metadata": {},
   "source": [
    "#### wandb는 data plotting을 해주는 tool이다. 여기서는 다양한 user와 하나의 team project를 만들고 서로의 결과를 공유하는 방법을 알아보자.\n",
    "\n",
    "    0. wandb에 가입하자. 본인의 이메일 주소로 team project에 초대가 될 것.\n",
    "    1. 우선 wandb를 설치하자. pip install wandb 로 간단하게 설치 가능(2021.01.12일 작성시까지 가능했음)\n",
    "    2. 이 다음부터는 아래 순서대로.."
   ]
  },
  {
   "cell_type": "code",
   "execution_count": 1,
   "metadata": {},
   "outputs": [],
   "source": [
    "# 설치가 완료되면 다음의 import를 하자\n",
    "\n",
    "import wandb"
   ]
  },
  {
   "cell_type": "code",
   "execution_count": null,
   "metadata": {},
   "outputs": [],
   "source": [
    "# 그 다음에 wandb를 쓰기 전에 로그인을 해야한다.\n",
    "# 아래와 같이 terminal에 입력하자. (참고: project를 wandb 홈페이지에서 생성하면 api key가 나오는데, 그걸로 로그인을 해도 무방하다.\n",
    "# 다수의 사용자가 쓰는 서버컴퓨터를 쓰는 경우라면, api key를 복사해놓고 자신이 쓸때는 로그인을 잊지 말자. \n",
    "\n",
    "terminal --> wandb login "
   ]
  },
  {
   "cell_type": "code",
   "execution_count": null,
   "metadata": {},
   "outputs": [],
   "source": [
    "# 그런데 py 파일에서 wandb login을 한번에 처리하고 싶을 때가 있다. 그 때는 다음과 같이 call 함수를 이용하자. (2021.01.12까지 잘 되었음)\n",
    "# 아래 구문을 py파일에 삽입하면, 다수의 사용자가 있는 서버를 쓰더라도 wandb 만큼은 자신의 project로 log가 기록된다.\n",
    "\n",
    "from subprocess import call\n",
    "call([\"wandb\", \"login\", \"발급받은 API 키 입력\"])"
   ]
  },
  {
   "cell_type": "code",
   "execution_count": 2,
   "metadata": {},
   "outputs": [],
   "source": [
    "import numpy as np\n",
    "import time"
   ]
  },
  {
   "cell_type": "code",
   "execution_count": 5,
   "metadata": {},
   "outputs": [],
   "source": [
    "# team 이름\n",
    "entity = 'teamname' # 처음 team을 만든 사람이 지은 이름이다. 이건 team에 초대한 사람이 알려줘야 함.  \n",
    "\n",
    "# team 안에 생성된 or 생성할 project 이름\n",
    "project_name = 'project name'\n",
    "\n",
    "# 개인적으로 wandb에 running을 수십번 올리다보면 이름이 계속 동일해서 헷갈리기 때문에, 항상 run 이름앞에 이런 random 숫자를 붙인다.\n",
    "run_idx = np.random.randint(10000) "
   ]
  },
  {
   "cell_type": "code",
   "execution_count": 3,
   "metadata": {},
   "outputs": [],
   "source": [
    "# 아래는 내가 생성한 것\n",
    "# team 이름\n",
    "entity = 'rl_flip_school_team' # 처음 team을 만든 사람이 지은 이름이다. 이건 team에 초대한 사람이 알려줘야 함.  \n",
    "\n",
    "# team 안에 생성된 or 생성할 project 이름\n",
    "project_name = 'actor_critic'\n",
    "\n",
    "# 개인적으로 wandb에 running을 수십번 올리다보면 이름이 계속 동일해서 헷갈리기 때문에, 항상 run 이름앞에 이런 random 숫자를 붙인다.\n",
    "run_idx = np.random.randint(10000) "
   ]
  },
  {
   "cell_type": "code",
   "execution_count": null,
   "metadata": {
    "scrolled": true
   },
   "outputs": [],
   "source": [
    "# 다음와 같이 initialization을 해야하는데, entity 변수가 만약에 맞지 않으면 실행이 되지 않는다.\n",
    "# 꼭 자신이 초대한 or 초대받은 team의 이름을 entity로 지정해주자.\n",
    "\n",
    "wandb.init(\n",
    "        project=project_name, \n",
    "        entity=entity,\n",
    "        name=f'{run_idx}_AC'\n",
    "        )"
   ]
  },
  {
   "cell_type": "code",
   "execution_count": null,
   "metadata": {},
   "outputs": [],
   "source": [
    "# wandb.init()을 쓸 때는, config를 잘 활용하면 매우 유용하다.\n",
    "# 아래처럼 config를 지정해주면, 나중에 각 hyperparameter로 모든 log를 그룹핑하여 plot된 것을 한번에 확인할 수도 있다.\n",
    "\n",
    "wandb.init(\n",
    "        project=project_name,\n",
    "        name=f\"{run_idx}_{running name}\",\n",
    "        config={\"env_name\": env_name, \n",
    "                \"input_frame\": input_frame,\n",
    "                \"input_dim\": input_dim,\n",
    "                \"alpha\": alpha,\n",
    "                \"beta\": beta,\n",
    "                \"epsilon_for_priority\": epsilon_for_priority,\n",
    "                \"initial_std (NoisyNet param)\": initial_std,\n",
    "                \"total_training_frames\": tot_train_frames,\n",
    "                \"skipped_frame\": skipped_frame,\n",
    "                \"gamma\": gamma,\n",
    "                \"n_step (Multi-step param)\": n_step,\n",
    "                \"buffer_size\": buffer_size,\n",
    "                \"update_start_buffer_size\": update_start_buffer_size,\n",
    "                \"grad_clip\": grad_clip,\n",
    "                \"batch_size\": batch_size,\n",
    "                \"update_type\": update_type,\n",
    "                \"soft_update_tau\": soft_update_tau,\n",
    "                \"learning_rate\": learning_rate,\n",
    "                \"target_update_freq (unit:frames)\": target_update_freq,\n",
    "                \"behave_update_freq (unit:frames)\": behave_update_freq,\n",
    "                \"n_atoms (C51 param)\": n_atoms,\n",
    "                \"Vmax (C51 param)\": Vmax,\n",
    "                \"Vmin (C51 param)\": Vmin\n",
    "                }\n",
    "        )"
   ]
  },
  {
   "cell_type": "code",
   "execution_count": null,
   "metadata": {},
   "outputs": [],
   "source": [
    "# wandb에 올리는 것은 무척 심플한데, 다음과 같이 wandb.log를 활용한다.\n",
    "# log안에는 dict 객체가 들어가며, key에는 plot되는 title을 넣고, value에는 plot하는 data를 '한 포인트'씩 넣어준다.\n",
    "\n",
    "lists = np.arange(10000)\n",
    "for i in lists:\n",
    "    time.sleep(0.5) \n",
    "    wandb.log({'Score': i}) "
   ]
  }
 ],
 "metadata": {
  "kernelspec": {
   "display_name": "Python 3",
   "language": "python",
   "name": "python3"
  },
  "language_info": {
   "codemirror_mode": {
    "name": "ipython",
    "version": 3
   },
   "file_extension": ".py",
   "mimetype": "text/x-python",
   "name": "python",
   "nbconvert_exporter": "python",
   "pygments_lexer": "ipython3",
   "version": "3.7.7"
  }
 },
 "nbformat": 4,
 "nbformat_minor": 4
}
