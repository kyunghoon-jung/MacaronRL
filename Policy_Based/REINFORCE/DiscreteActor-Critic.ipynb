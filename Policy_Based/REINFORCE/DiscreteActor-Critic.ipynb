{
 "cells": [
  {
   "cell_type": "code",
   "execution_count": 1,
   "metadata": {},
   "outputs": [],
   "source": [
    "import torch\n",
    "import torch.nn as nn\n",
    "import torch.optim as optim\n",
    "import torch.nn.functional as F\n",
    "from torchsummary import summary\n",
    "\n",
    "import gym\n",
    "import numpy as np\n",
    "import matplotlib.pyplot as plt\n",
    "from IPython.display import clear_output\n",
    "from adabelief_pytorch import AdaBelief\n",
    "\n",
    "# for using sampling with gradient-tracking when selecting an action\n",
    "from torch.distributions import Categorical"
   ]
  },
  {
   "cell_type": "code",
   "execution_count": 2,
   "metadata": {},
   "outputs": [],
   "source": [
    "class Policy(nn.Module):\n",
    "\n",
    "    def __init__(self, input_dim, action_dim, hidden):\n",
    "        super(Policy, self).__init__()\n",
    "        self.fc1 = nn.Linear(input_dim, hidden)\n",
    "        self.fc2 = nn.Linear(hidden, action_dim)\n",
    "        \n",
    "    def forward(self, state):\n",
    "        out = F.relu(self.fc1(state))\n",
    "        out = F.softmax(self.fc2(out), dim=1)\n",
    "        return out "
   ]
  },
  {
   "cell_type": "code",
   "execution_count": 3,
   "metadata": {},
   "outputs": [],
   "source": [
    "class Agent():\n",
    "    def __init__(self, env, n_epi, max_steps, gamma, plot_freq, input_dim, action_dim, hidden, learning_rate, device):\n",
    "        # environment parameter\n",
    "        self.gamma = gamma\n",
    "        self.env = env\n",
    "\n",
    "        # trainig parameter\n",
    "        self.device = device\n",
    "        self.n_epi = n_epi\n",
    "        self.max_steps = max_steps\n",
    "        self.plot_freq = plot_freq\n",
    "        self.frame_cnt = 0\n",
    "\n",
    "        # network paramter\n",
    "        self.lr = learning_rate\n",
    "        self.policy = Policy(input_dim, action_dim, hidden).to(self.device)\n",
    "        self.optimizer = optim.Adam(self.policy.parameters(), lr=self.lr)\n",
    "        \n",
    "    def select_action(self, state):\n",
    "        prob = self.policy(torch.FloatTensor(state).view(1, -1).to(self.device)) \n",
    "        cate_dist = Categorical(prob) \n",
    "        action = cate_dist.sample() \n",
    "        return action.item(), cate_dist.log_prob(action), prob.detach().cpu().numpy() \n",
    "    \n",
    "    def update_policy(self, epi_history):\n",
    "        accum_R = 0\n",
    "        losses = torch.zeros(len(epi_history)).to(self.device)\n",
    "        \n",
    "        for idx, [log_p, r] in enumerate(epi_history[::-1]):\n",
    "            accum_R += r * (self.gamma**idx)\n",
    "            one_step_loss = -log_p * accum_R\n",
    "            losses[idx] = one_step_loss\n",
    "        loss = losses.sum()\n",
    "        \n",
    "        self.optimizer.zero_grad()\n",
    "        loss.backward()\n",
    "        self.optimizer.step()\n",
    "        \n",
    "        return loss\n",
    "    \n",
    "    def train(self):\n",
    "        score_hist = []\n",
    "        loss_hist = []\n",
    "        \n",
    "        for i_episode in range(1, self.n_epi+1):\n",
    "            epi_history = []\n",
    "            rewards = [] \n",
    "            score = 0\n",
    "\n",
    "            state = self.env.reset() \n",
    "            for step in range(self.max_steps):\n",
    "                action, log_prob, prob = self.select_action(state)\n",
    "                next_state, reward, done, _ = env.step(action)\n",
    "                \n",
    "                epi_history.append([log_prob, reward])\n",
    "                state = next_state\n",
    "                score += reward\n",
    "                self.frame_cnt += 1\n",
    "                if done: break\n",
    "            score_hist.append(score)\n",
    "            loss = self.update_policy(epi_history)\n",
    "            loss_hist.append(loss)\n",
    "            if i_episode%self.plot_freq == 0:\n",
    "                self._plot_status(i_episode, loss_hist, score_hist)\n",
    "    \n",
    "    def _plot_status(self, i_episode, loss_hist, score_hist):\n",
    "        subplot_params = [\n",
    "            (121, f\"Scores in episode_{i_episode}\", score_hist),\n",
    "            (122, f\"Policy loss in episode:{i_episode}\", loss_hist),\n",
    "        ]\n",
    "\n",
    "        clear_output(True)\n",
    "        plt.figure(figsize=(10, 5), facecolor='w')\n",
    "        for loc, title, values in subplot_params:\n",
    "            plt.subplot(loc)\n",
    "            plt.title(f'Frame:{self.frame_cnt} '+title)\n",
    "            plt.plot(values)\n",
    "        plt.show()"
   ]
  },
  {
   "cell_type": "code",
   "execution_count": 4,
   "metadata": {},
   "outputs": [
    {
     "name": "stdout",
     "output_type": "stream",
     "text": [
      "Environment:  LunarLander-v2\n",
      "State Dimension: 8  Action Dimension: 4\n"
     ]
    }
   ],
   "source": [
    "device = torch.device(\n",
    "            \"cuda:1\" if torch.cuda.is_available() else \"cpu\"\n",
    "        )\n",
    "env_name_list = [\"CartPole-v0\", \"MountainCar-v0\", \"LunarLander-v2\"]\n",
    "env_name = env_name_list[2]\n",
    "env = gym.make(env_name)\n",
    "state_dim = env.observation_space.shape[0]\n",
    "action_dim = env.action_space.n\n",
    "\n",
    "print(\"Environment: \", env_name)\n",
    "print(\"State Dimension:\", state_dim, \" Action Dimension:\", action_dim)\n",
    "\n",
    "n_epi = 100000 \n",
    "max_steps = 1000\n",
    "gamma = 0.99\n",
    "plot_freq = 10\n",
    "\n",
    "hidden = 128\n",
    "learning_rate = 0.001"
   ]
  },
  {
   "cell_type": "code",
   "execution_count": 8,
   "metadata": {},
   "outputs": [
    {
     "data": {
      "text/plain": [
       "0.4475232137638106"
      ]
     },
     "execution_count": 8,
     "metadata": {},
     "output_type": "execute_result"
    }
   ],
   "source": [
    "0.99**80"
   ]
  },
  {
   "cell_type": "code",
   "execution_count": 5,
   "metadata": {},
   "outputs": [],
   "source": [
    "agent = Agent(\n",
    "            env,\n",
    "            n_epi,\n",
    "            max_steps,\n",
    "            gamma,\n",
    "            plot_freq,\n",
    "            state_dim,\n",
    "            action_dim,\n",
    "            hidden,\n",
    "            learning_rate,\n",
    "            device)"
   ]
  },
  {
   "cell_type": "code",
   "execution_count": null,
   "metadata": {
    "scrolled": true
   },
   "outputs": [
    {
     "data": {
      "image/png": "[encoded data removed]",
      "text/plain": [
       "<Figure size 720x360 with 2 Axes>"
      ]
     },
     "metadata": {},
     "output_type": "display_data"
    }
   ],
   "source": [
    "agent.train() "
   ]
  },
  {
   "cell_type": "code",
   "execution_count": null,
   "metadata": {},
   "outputs": [],
   "source": []
  }
 ],
 "metadata": {
  "kernelspec": {
   "display_name": "Python 3",
   "language": "python",
   "name": "python3"
  },
  "language_info": {
   "codemirror_mode": {
    "name": "ipython",
    "version": 3
   },
   "file_extension": ".py",
   "mimetype": "text/x-python",
   "name": "python",
   "nbconvert_exporter": "python",
   "pygments_lexer": "ipython3",
   "version": "3.7.0"
  }
 },
 "nbformat": 4,
 "nbformat_minor": 4
}
